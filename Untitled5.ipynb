{
  "nbformat": 4,
  "nbformat_minor": 0,
  "metadata": {
    "colab": {
      "provenance": [],
      "authorship_tag": "ABX9TyMPTHBwcuQWUdLv5xvHMAeW",
      "include_colab_link": true
    },
    "kernelspec": {
      "name": "python3",
      "display_name": "Python 3"
    },
    "language_info": {
      "name": "python"
    }
  },
  "cells": [
    {
      "cell_type": "markdown",
      "metadata": {
        "id": "view-in-github",
        "colab_type": "text"
      },
      "source": [
        "<a href=\"https://colab.research.google.com/github/anwrmohammed/LOGIN.A/blob/main/Untitled5.ipynb\" target=\"_parent\"><img src=\"https://colab.research.google.com/assets/colab-badge.svg\" alt=\"Open In Colab\"/></a>"
      ]
    },
    {
      "cell_type": "code",
      "execution_count": 1,
      "metadata": {
        "colab": {
          "base_uri": "https://localhost:8080/"
        },
        "id": "b6xm9AiF_YHr",
        "outputId": "a77745e3-685d-4dba-c1bd-c2e769740ff2"
      },
      "outputs": [
        {
          "output_type": "stream",
          "name": "stdout",
          "text": [
            "العدد الأكبر في المجموعة هو: 67\n"
          ]
        }
      ],
      "source": [
        "numbers = [12, 45, 67, 23, 9, 51]\n",
        "maximum = max(numbers)\n",
        "print(\"العدد الأكبر في المجموعة هو:\", maximum)"
      ]
    }
  ]
}